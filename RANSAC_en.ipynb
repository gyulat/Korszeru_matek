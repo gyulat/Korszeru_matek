{
 "cells": [
  {
   "cell_type": "markdown",
   "metadata": {},
   "source": [
    "# RANSAC\n",
    "\n",
    "It is well known that least squares parameter estimation is not resistent, i.e. sensitive to outliers. Even one outlier may break least squares estimation, which means a possibly infinitely large parameter bias.\n",
    "\n",
    "This problem is effectively solved by **RANSAC (RANdom Sample And Consensus)** introduced By Fischler and Bolles in 1981. They solved a problem with a large percent of outliers in the input data. Even 50% of outliers may be tolerated by RANSAC.\n",
    "\n",
    "Therefore RANSAC is a resistent iterative parameter estimation procedure that uses a subset of data consistent with a model. At each iteration step the procedure works as follows:\n",
    "\n",
    "1. Select a random minimal sample from data and check conformity\n",
    "2. Estimate model and check its validity\n",
    "3. Classify data as conform or outlier based on deviations from the model - data are conform if deviations are below threshold\n",
    "4. Keep model if the number of conform data is maximum.\n",
    "\n",
    "Iteration ends upon reaching a specified maximum number or upon a specific criterion. Model parameters are then estimated using the best model."
   ]
  },
  {
   "cell_type": "markdown",
   "metadata": {},
   "source": [
    "## RANSAC ellipse fitting\n",
    "\n",
    "RANSAC is illustrated with a simple problem.\n",
    "\n",
    "Generate conform data that approximately fit on an ellipse:"
   ]
  },
  {
   "cell_type": "code",
   "execution_count": 1,
   "metadata": {},
   "outputs": [],
   "source": [
    "import numpy as np\n",
    "t = np.linspace(0, 2 * np.pi, 50)\n",
    "a = 10\n",
    "b = 5\n",
    "xc = 20\n",
    "yc = 30\n",
    "theta = np.pi/6\n",
    "x = xc + a*np.cos(theta)*np.cos(t) - b*np.sin(theta)*np.sin(t)\n",
    "y = yc + a*np.sin(theta)*np.cos(t) + b*np.cos(theta)*np.sin(t)\n",
    "data = np.column_stack([x, y])\n",
    "# for reproducibility:\n",
    "np.random.seed(seed=1234)\n",
    "data += np.random.normal(size=data.shape)"
   ]
  },
  {
   "cell_type": "markdown",
   "metadata": {},
   "source": [
    "Add some outliers:"
   ]
  },
  {
   "cell_type": "code",
   "execution_count": 2,
   "metadata": {},
   "outputs": [
    {
     "data": {
      "image/png": "[encoded data removed]",
      "text/plain": [
       "<Figure size 432x288 with 1 Axes>"
      ]
     },
     "metadata": {},
     "output_type": "display_data"
    }
   ],
   "source": [
    "data[0] = (100, 100)\n",
    "data[1] = (110, 120)\n",
    "data[2] = (120, 130)\n",
    "data[3] = (140, 130)\n",
    "\n",
    "%matplotlib inline\n",
    "import matplotlib.pyplot as plt\n",
    "plt.plot(data[:,0],data[:,1],'r.')\n",
    "plt.show()"
   ]
  },
  {
   "cell_type": "markdown",
   "metadata": {},
   "source": [
    "### Use total least squares estimation\n",
    "\n",
    "The image processing library [Scikit-image](http://scikit-image.org) will be used for estimation. It contains implementation of both least squares and RANSAC estimation that can be used for our problem."
   ]
  },
  {
   "cell_type": "code",
   "execution_count": 4,
   "metadata": {},
   "outputs": [
    {
     "data": {
      "text/plain": [
       "[73.53514375553581,\n",
       " 78.26758207007087,\n",
       " 9.29496368832247,\n",
       " 80.77273222348025,\n",
       " 2.303948938231546]"
      ]
     },
     "execution_count": 4,
     "metadata": {},
     "output_type": "execute_result"
    }
   ],
   "source": [
    "import skimage.measure as sm\n",
    "model = sm.EllipseModel()\n",
    "model.estimate(data)\n",
    "# ellipse parameters:\n",
    "# xc, yc, a, b, theta\n",
    "np.set_printoptions(suppress=True)\n",
    "model.params"
   ]
  },
  {
   "cell_type": "markdown",
   "metadata": {},
   "source": [
    "Ezek a paraméterek láthatóan teljesen rosszak. Az eredeti ellipszis fél tengelyhosszai 10 és 5 voltak, a középpont pedig az $O(20,30)$ koordinátájú pont."
   ]
  },
  {
   "cell_type": "markdown",
   "metadata": {},
   "source": [
    "### Végezzünk becslést RANSAC eljárással"
   ]
  },
  {
   "cell_type": "code",
   "execution_count": 6,
   "metadata": {},
   "outputs": [
    {
     "name": "stdout",
     "output_type": "stream",
     "text": [
      "[20.056885019810036, 29.543602080886277, 5.453222019610929, 9.289882323249083, 2.0438231698766316]\n",
      "[-0.05688502  0.45639792  4.54677798 -4.28988232 -1.52022439]\n"
     ]
    }
   ],
   "source": [
    "# at least 5 points are needed for ellipse fitting\n",
    "n_min = 5\n",
    "# maximum distance of conform points\n",
    "t_max = 3.0\n",
    "ransac_model, inliers = sm.ransac(data, sm.EllipseModel, n_min, t_max, max_trials=50)\n",
    "print(ransac_model.params)\n",
    "original_params = np.array([xc,yc,a,b,theta])\n",
    "print(original_params - ransac_model.params)"
   ]
  },
  {
   "cell_type": "markdown",
   "metadata": {},
   "source": [
    "Conform data were found and stored in array 'inliers' as logical 'True' elements:"
   ]
  },
  {
   "cell_type": "code",
   "execution_count": 7,
   "metadata": {},
   "outputs": [
    {
     "data": {
      "text/plain": [
       "array([False, False, False, False,  True,  True,  True,  True,  True,\n",
       "        True,  True,  True,  True,  True,  True,  True,  True,  True,\n",
       "        True,  True,  True,  True,  True,  True,  True,  True,  True,\n",
       "        True,  True,  True,  True,  True, False,  True,  True,  True,\n",
       "        True,  True,  True,  True,  True,  True,  True,  True,  True,\n",
       "        True,  True,  True,  True,  True])"
      ]
     },
     "execution_count": 7,
     "metadata": {},
     "output_type": "execute_result"
    }
   ],
   "source": [
    "inliers"
   ]
  },
  {
   "cell_type": "markdown",
   "metadata": {},
   "source": [
    "We see that the first four data are outliers that were added by us."
   ]
  },
  {
   "cell_type": "markdown",
   "metadata": {},
   "source": [
    "### Plot best fitting ellipse to conform data"
   ]
  },
  {
   "cell_type": "code",
   "execution_count": 9,
   "metadata": {},
   "outputs": [
    {
     "data": {
      "image/png": "[encoded data removed]",
      "text/plain": [
       "<Figure size 432x288 with 1 Axes>"
      ]
     },
     "metadata": {},
     "output_type": "display_data"
    }
   ],
   "source": [
    "t = np.linspace(0, 2 * np.pi, 100)\n",
    "p = ransac_model.params\n",
    "xe = p[0] + p[2]*np.cos(p[4])*np.cos(t) - p[3]*np.sin(p[4])*np.sin(t)\n",
    "ye = p[1] + p[2]*np.sin(p[4])*np.cos(t) + p[3]*np.cos(p[4])*np.sin(t)\n",
    "plt.clf()\n",
    "plt.plot(data[inliers,0],data[inliers,1],'r.')\n",
    "plt.plot(xe,ye,'b-')\n",
    "plt.plot(p[0],p[1],'bo')\n",
    "plt.axis('equal')\n",
    "plt.show()"
   ]
  },
  {
   "cell_type": "markdown",
   "metadata": {},
   "source": [
    "Next we first determine position and radius of a reference sphere using laser scanner data.([SphRANSAC](https://nbviewer.jupyter.org/github/gyulat/Korszeru_matek/blob/master/SphRANSAC_en.ipynb)). Then we solve a more complicated geometrical problem: determine parameters of a best fitting right circular cylinder using a point cloud with outliers ([CylRANSAC](https://nbviewer.jupyter.org/github/gyulat/Korszeru_matek/blob/master/CylRANSAC_en.ipynb))."
   ]
  }
 ],
 "metadata": {
  "kernelspec": {
   "display_name": "Python 3",
   "language": "python",
   "name": "python3"
  },
  "language_info": {
   "codemirror_mode": {
    "name": "ipython",
    "version": 3
   },
   "file_extension": ".py",
   "mimetype": "text/x-python",
   "name": "python",
   "nbconvert_exporter": "python",
   "pygments_lexer": "ipython3",
   "version": "3.6.7"
  }
 },
 "nbformat": 4,
 "nbformat_minor": 1
}
