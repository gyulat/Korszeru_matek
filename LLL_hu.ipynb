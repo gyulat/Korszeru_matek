{
 "cells": [
  {
   "cell_type": "markdown",
   "metadata": {},
   "source": [
    "### LLL rácsredukció\n",
    "A.K. Lenstra, H.W. Lenstra és Lovász L. mutattak be egy hatékony és híres redukciós kritériumot tetszőleges rácsméretekre, és az általuk javasolt algoritmus LLL algoritmus néven ismert. Ez a Gauss-redukció kiterjesztéseként értelmezhető m > 2 rangú rácsokra.\n",
    "\n",
    "Az alábbiakban egy egyszerű LLL implementációt mutatunk be Python nyelven."
   ]
  },
  {
   "cell_type": "code",
   "execution_count": 1,
   "metadata": {},
   "outputs": [],
   "source": [
    "import numpy as np\n",
    "\n",
    "def LLL(A, delta=0.75):\n",
    "    # Input: A     : input bázis\n",
    "    #        delta : LLL redukció paramétere\n",
    "    # Output:    B : LLL-redukált bázis, B = A*T\n",
    "    #            T : unimoduláris transzformáló mátrix\n",
    "    if delta > 1 or delta < 0.25:\n",
    "        print(\"A delta értéke érvénytelen, helyette 0.75-öt használunk.\")\n",
    "        delta = 0.75\n",
    "    # initialization\n",
    "    B     = np.copy(A)                 # redukált B mátrix\n",
    "    Q,R   = np.linalg.qr(B,'reduced')  # B mátrix QR felbontása\n",
    "    (n,m) = B.shape                    # mátrix alaka\n",
    "    T     = np.eye(m)                  # unimoduláris m x m -es mátrix\n",
    "    \n",
    "    # LLL - redukció\n",
    "    l  = 1\n",
    "    while l < m:\n",
    "        # A B[:,l] oszlopvektor méretének csökkentése\n",
    "        for k in range(l-1,-1,-1):\n",
    "            mu = np.round(R[k,l]/R[k,k])       # abs(R[k,l])>0.5*abs(R[k,k])\n",
    "            if np.abs(mu)>0:\n",
    "                B[:,l]     = B[:,l]   - mu * B[:,k]\n",
    "                R[:k+1,l]  = R[:k+1,l]  - mu * R[:k+1,k]\n",
    "                T[:,l]     = T[:,l]   - mu * T[:,k]\n",
    "        # Lovász feltétel\n",
    "        lng = np.linalg.norm(R[l-1:l+1,l])\n",
    "        if delta*np.abs(R[l-1,l-1])**2 > lng**2:\n",
    "            # az l-1 és l oszlopok felcserélése B-ben, T-ben és R-ben\n",
    "            B[:,[l-1,l]]     = B[:,[l,l-1]]\n",
    "            T[:,[l-1,l]]     = T[:,[l,l-1]]\n",
    "            R[:l+1,[l-1,l]]  = R[:l+1,[l,l-1]]\n",
    "            # a felső háromszögszerkezet felépítése Givens-forgatással \n",
    "            # a Theta mátrixszal történő szorzás eredményeképpen R[l,l-1] = 0\n",
    "            c     = R[l-1,l-1] / lng        # lng = ||R[l-1:l,l-1]|| felcserélés után\n",
    "            s     = R[l,l-1]   / lng\n",
    "            Theta = np.array([[c, s], [-s, c]])\n",
    "            R[l-1:l+1,l-1:] = np.dot(Theta, R[l-1:l+1,l-1:])\n",
    "            Q[:,l-1:l+1]      = np.dot(Q[:,l-1:l+1], Theta.T)\n",
    "            l                 = max(l-1,1)\n",
    "        else:\n",
    "            l = l+1\n",
    "\n",
    "    return B,T"
   ]
  },
  {
   "cell_type": "markdown",
   "metadata": {},
   "source": [
    "Ellenőrizzük a kódunkat egy egyszerű példával [innen](https://en.wikipedia.org/wiki/Lenstra%E2%80%93Lenstra%E2%80%93Lov%C3%A1sz_lattice_basis_reduction_algorithm)."
   ]
  },
  {
   "cell_type": "code",
   "execution_count": 2,
   "metadata": {},
   "outputs": [
    {
     "name": "stdout",
     "output_type": "stream",
     "text": [
      "kezdeti rácsbázis:\n",
      "[[ 1 -1  3]\n",
      " [ 1  0  5]\n",
      " [ 1  2  6]]\n",
      "LLL redukált bázis:\n",
      "[[ 0  1 -1]\n",
      " [ 1  0  0]\n",
      " [ 0  1  2]]\n",
      "unimoduláris transzformáló mátrix:\n",
      "[[-4.  5.  0.]\n",
      " [-1.  1.  1.]\n",
      " [ 1. -1.  0.]]\n"
     ]
    }
   ],
   "source": [
    "# tesztpélda a Wikipédiából\n",
    "A = np.array([[1,-1,3],[1,0,5],[1,2,6]])\n",
    "print(\"kezdeti rácsbázis:\")\n",
    "print(A)\n",
    "# make LLL reduction\n",
    "B,T = LLL(A)\n",
    "print(\"LLL redukált bázis:\")\n",
    "print(B)\n",
    "print(\"unimoduláris transzformáló mátrix:\")\n",
    "print(T)"
   ]
  },
  {
   "cell_type": "markdown",
   "metadata": {},
   "source": [
    "Most kiszámítjuk a Babai-pontot Babai kerekítési technikájával."
   ]
  },
  {
   "cell_type": "code",
   "execution_count": 3,
   "metadata": {},
   "outputs": [
    {
     "name": "stdout",
     "output_type": "stream",
     "text": [
      "input pont t: \n",
      "[ 4.2  7.1 -2.6]\n",
      "Babai pont v: \n",
      "[ 4.  7. -4.]\n",
      "A t-v euklideszi normája: \n",
      "1.4177\n",
      "a t-v koordinátái LLL-bázisban: \n",
      "[-0.4  0.2  0.5]\n"
     ]
    }
   ],
   "source": [
    "# input point\n",
    "t = np.array([4.2,7.1,-2.6])\n",
    "print(\"input pont t: \")\n",
    "print(t)\n",
    "# Babai's rounding technique\n",
    "l = np.dot(t,np.linalg.inv(B))\n",
    "v = np.dot(np.round(l),B)\n",
    "print(\"Babai pont v: \")\n",
    "print(v)\n",
    "tv = t-v\n",
    "print(\"A t-v euklideszi normája: \")\n",
    "print(\"{:.4f}\".format(np.linalg.norm(t-v)))\n",
    "m = np.dot(tv,np.linalg.inv(B))\n",
    "print(\"a t-v koordinátái LLL-bázisban: \")\n",
    "print(m)"
   ]
  }
 ],
 "metadata": {
  "kernelspec": {
   "display_name": "Python 3",
   "language": "python",
   "name": "python3"
  },
  "language_info": {
   "codemirror_mode": {
    "name": "ipython",
    "version": 3
   },
   "file_extension": ".py",
   "mimetype": "text/x-python",
   "name": "python",
   "nbconvert_exporter": "python",
   "pygments_lexer": "ipython3",
   "version": "3.9.16"
  }
 },
 "nbformat": 4,
 "nbformat_minor": 2
}
