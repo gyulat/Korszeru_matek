{
 "cells": [
  {
   "cell_type": "markdown",
   "metadata": {},
   "source": [
    "### LLL lattice reduction\n",
    "A powerful and famous reduction criterion for arbitrary lattice dimensions was introduced by A.K. Lenstra, H.W. Lenstra, and L. Lovász, and the algorithm they proposed is known as the LLL algorithm. It can be interpreted as an extension of Gauss reduction to lattices of rank m > 2.\n",
    "\n",
    "We provide below a simple LLL implementation in Python"
   ]
  },
  {
   "cell_type": "code",
   "execution_count": 1,
   "metadata": {},
   "outputs": [],
   "source": [
    "import numpy as np\n",
    "\n",
    "def LLL(A, delta=0.75):\n",
    "    # Input: A     : input basis\n",
    "    #        delta : LLL reduction parameter\n",
    "    # Output:    B : LLL-reduced basis, B = A*T\n",
    "    #            T : unimodular transformation matrix\n",
    "    if delta > 1 or delta < 0.25:\n",
    "        print(\"Invalid value of delta, 0.75 used instead\")\n",
    "        delta = 0.75\n",
    "    # initialization\n",
    "    B     = np.copy(A)                 # reduced matrix B\n",
    "    Q,R   = np.linalg.qr(B,'reduced')  # QR decomposition of matrix B\n",
    "    (n,m) = B.shape                    # matrix dimensions\n",
    "    T     = np.eye(m)                  # unimodular m x m matrix\n",
    "    \n",
    "    # LLL - reduction\n",
    "    l  = 1\n",
    "    while l < m:\n",
    "        # Size reduction of column vector B[:,l]\n",
    "        for k in range(l-1,-1,-1):\n",
    "            mu = np.round(R[k,l]/R[k,k])       # abs(R[k,l])>0.5*abs(R[k,k])\n",
    "            if np.abs(mu)>0:\n",
    "                B[:,l]     = B[:,l]   - mu * B[:,k]\n",
    "                R[:k+1,l]  = R[:k+1,l]  - mu * R[:k+1,k]\n",
    "                T[:,l]     = T[:,l]   - mu * T[:,k]\n",
    "        # Lovász condition\n",
    "        lng = np.linalg.norm(R[l-1:l+1,l])\n",
    "        if delta*np.abs(R[l-1,l-1])**2 > lng**2:\n",
    "            # swapping of columns l-1 and l in B, T and R\n",
    "            B[:,[l-1,l]]     = B[:,[l,l-1]]\n",
    "            T[:,[l-1,l]]     = T[:,[l,l-1]]\n",
    "            R[:l+1,[l-1,l]]  = R[:l+1,[l,l-1]]\n",
    "            # reconstruction of upper triangular structure by Givens rotation \n",
    "            # mutliplication with matrix Theta achieves R[l,l-1] = 0\n",
    "            c     = R[l-1,l-1] / lng        # lng = ||R[l-1:l,l-1]|| after swapping\n",
    "            s     = R[l,l-1]   / lng\n",
    "            Theta = np.array([[c, s], [-s, c]])\n",
    "            R[l-1:l+1,l-1:] = np.dot(Theta, R[l-1:l+1,l-1:])\n",
    "            Q[:,l-1:l+1]      = np.dot(Q[:,l-1:l+1], Theta.T)\n",
    "            l                 = max(l-1,1)\n",
    "        else:\n",
    "            l = l+1\n",
    "\n",
    "    return B,T"
   ]
  },
  {
   "cell_type": "markdown",
   "metadata": {},
   "source": [
    "Check our code with a simple example from [here](https://en.wikipedia.org/wiki/Lenstra%E2%80%93Lenstra%E2%80%93Lov%C3%A1sz_lattice_basis_reduction_algorithm)."
   ]
  },
  {
   "cell_type": "code",
   "execution_count": 2,
   "metadata": {},
   "outputs": [
    {
     "name": "stdout",
     "output_type": "stream",
     "text": [
      "initial lattice basis:\n",
      "[[ 1 -1  3]\n",
      " [ 1  0  5]\n",
      " [ 1  2  6]]\n",
      "LLL reduced basis:\n",
      "[[ 0  1 -1]\n",
      " [ 1  0  0]\n",
      " [ 0  1  2]]\n",
      "unimodular transformation matrix:\n",
      "[[-4.  5.  0.]\n",
      " [-1.  1.  1.]\n",
      " [ 1. -1.  0.]]\n"
     ]
    }
   ],
   "source": [
    "# test example from Wikipedia\n",
    "A = np.array([[1,-1,3],[1,0,5],[1,2,6]])\n",
    "print(\"initial lattice basis:\")\n",
    "print(A)\n",
    "# make LLL reduction\n",
    "B,T = LLL(A)\n",
    "print(\"LLL reduced basis:\")\n",
    "print(B)\n",
    "print(\"unimodular transformation matrix:\")\n",
    "print(T)"
   ]
  },
  {
   "cell_type": "markdown",
   "metadata": {},
   "source": [
    "Now we calculate a Babai point using Babai's rounding techique."
   ]
  },
  {
   "cell_type": "code",
   "execution_count": 3,
   "metadata": {},
   "outputs": [
    {
     "name": "stdout",
     "output_type": "stream",
     "text": [
      "input point t: \n",
      "[ 4.2  7.1 -2.6]\n",
      "Babai point v: \n",
      "[ 4.  7. -4.]\n",
      "Euclidean norm of t-v: \n",
      "1.4177\n",
      "coordinates of t-v in LLL basis: \n",
      "[-0.4  0.2  0.5]\n"
     ]
    }
   ],
   "source": [
    "# input point\n",
    "t = np.array([4.2,7.1,-2.6])\n",
    "print(\"input point t: \")\n",
    "print(t)\n",
    "# Babai's rounding technique\n",
    "l = np.dot(t,np.linalg.inv(B))\n",
    "v = np.dot(np.round(l),B)\n",
    "print(\"Babai point v: \")\n",
    "print(v)\n",
    "tv = t-v\n",
    "print(\"Euclidean norm of t-v: \")\n",
    "print(\"{:.4f}\".format(np.linalg.norm(t-v)))\n",
    "m = np.dot(tv,np.linalg.inv(B))\n",
    "print(\"coordinates of t-v in LLL basis: \")\n",
    "print(m)"
   ]
  }
 ],
 "metadata": {
  "kernelspec": {
   "display_name": "Python 3",
   "language": "python",
   "name": "python3"
  },
  "language_info": {
   "codemirror_mode": {
    "name": "ipython",
    "version": 3
   },
   "file_extension": ".py",
   "mimetype": "text/x-python",
   "name": "python",
   "nbconvert_exporter": "python",
   "pygments_lexer": "ipython3",
   "version": "3.7.4"
  }
 },
 "nbformat": 4,
 "nbformat_minor": 2
}
