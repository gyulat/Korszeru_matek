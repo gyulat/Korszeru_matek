{
 "cells": [
  {
   "cell_type": "markdown",
   "metadata": {},
   "source": [
    "## Főkomponens-analízis (PCA)\n",
    "\n",
    "A [főkomponens-analízis](https://hu.wikipedia.org/wiki/F%C5%91komponens-anal%C3%ADzis) ([Principal Component Analysis](https://en.wikipedia.org/wiki/Principal_component_analysis#Singular_value_decomposition), PCA) az SVD közeli \"rokona\". \n",
    "\n",
    "Mi a PCA célja? Idézet a fenti cikkből:\n",
    "\"Működése felfogható úgy, mint az adat belső struktúrájának feltárása oly módon, hogy az a legjobban magyarázza az adathalmaz szóródását. Ha egy többváltozós adathalmaz egy nagy-dimenziós adattérben koordináták halmazaként ábrázolt, a főkomponens-analízis egy alacsonyabb dimenziójú képet szolgáltathat a felhasználó számára, a leginformatívabb nézőpontból nézve az objektum egy levetítése vagy „árnyéka” által. Ez az első néhány főkomponens felhasználásával történik úgy, hogy a transzformált adat dimenzióit lecsökkentjük.\"\n",
    "\n",
    "A PCA ezért igen hasznos az adatok ábrázolásához, illetve a gépi tanulás különböző eljárásaihoz (regresszió, klaszterezés).\n",
    "\n",
    "Legyen  $\\mathbf{X}$ egy $p\\times n$ méretű mátrix, amelynek sorai az egyes \"jellegzetességek\", oszopai pedig az egyes mérések\". A \"jellegzetességek\" a mért változók vagy azok valamilyen kombinációi. \n",
    "\n",
    "Ha $\\mathbf{X}$ soronként zérus átlagú, akkor állítsuk elő a mérések tapasztalati kovariancia mátrixát:\n",
    "\n",
    "$$\\mathbf{C}_{\\mathbf{X}} = \\frac{1}{n-1} \\mathbf{X}\\mathbf{X}^T$$\n",
    "\n",
    "Állítsuk elő a $\\mathbf{C}_{\\mathbf{X}}$ mátrix sajátérték felbontását:\n",
    "\n",
    "$$\\mathbf{C}_{\\mathbf{X}} =  \\mathbf{P}\\mathbf{\\Lambda}\\mathbf{P}^T.$$\n",
    "\n",
    "Ebben az esetben az $\\mathbf{Y}=\\mathbf{P}\\mathbf{X}$ mátrix adja az $\\mathbf{X}$ mátrix ábrázolását a főkomponensek terében.\n",
    "\n",
    "A PCA elvégezhető az $\\mathbf{X}$ mátrix SVD felbontása segítségével is. Legyen az $\\mathbf{X}$ mátrix SVD felbontása:\n",
    "\n",
    "$$\\mathbf{X}=\\mathbf{U}\\mathbf{S}\\mathbf{V}^T.$$\n",
    "\n",
    "Ekkor a $p\\times p$ méretű $\\mathbf{U}$ mátrix oszlopai tartalmazzák a $\\mathbf{C}_{\\mathbf{X}}$ kovariancia mátrix *főkomponenseit*.\n",
    "\n",
    "A PCA egy olyan új koordinátarendszert próbál megtalálni, amelyben a variancia az első komponens szerint maximális. Kiderül, hogy ez a $\\mathbf{C}$ kovariancia mátrix SVD (sajátérték) felbontása. Mivel mindegyik sajátvektorhoz egy sajátérték tartozik, ezért a sajátvektorok valamilyen részhalmazát kiválasztva (ezek jellemzően a legnagyobb sajátértékekhez tartozó sajátvektorok), lecsökkenthetjük a jellegzetességek vektorának dimenzióját erre az altérre történő vetítéssel.\n",
    "\n",
    "Legyen $\\mathbf{\\hat{U}}$ az SVD bal oldali sajátvektoraiból álló $m\\times k$ méretű mátrix, amelyben csak a legnagyobb $k$ sajátértékhez tartozó sajátvektorok oszlopait választottuk ki. Ekkor elő tudjuk állítani az $\\mathbf{X}$ mátrix egy  $\\mathbf{\\hat{X}}$ $n\\times k$ méretű közelítését:\n",
    "\n",
    "$$\\mathbf{\\hat{X}}=\\mathbf{\\hat{U}}\\mathbf{X}.$$\n"
   ]
  },
  {
   "cell_type": "markdown",
   "metadata": {},
   "source": [
    "Először megírjuk a `PCA(X)` Python függvényt, amely elvégzi az `X` mátrix főkomponens-elemzését. Először levonjuk `X` soronkénti átlagait (mivel az `X` mátrix egyes sorai a változókra vonatkozó mérések) és kiszámoljuk a `Cx` kovariancia mátrixot. Ezután az `eig()` függvénnyel átlós alakra transzformáljuk."
   ]
  },
  {
   "cell_type": "code",
   "execution_count": 1,
   "metadata": {},
   "outputs": [],
   "source": [
    "import numpy as np\n",
    "# PCA függvény\n",
    "def PCA(X):\n",
    "    \"\"\" főkomponens-elemzést végez (PCA)\n",
    "        a (p,n) méretű A adatmátrixon\n",
    "        X soraiban vannak az egyes változókra vonatkozó mérések, oszlopaiban az összes változó egy adott mérése\n",
    "\n",
    "    Eredmények :  \n",
    "      var :\n",
    "        a főkomponensek varianciái\n",
    "      Y   : \n",
    "        'X' ábrázolása a főkomponensek terében, Y = P.X\n",
    "      P  : \n",
    "        'X' kovariancia mátrixa sajátértékeit tartalmazó vektor.\n",
    "    \"\"\"\n",
    "    # soronként kivonjuk az átlagot\n",
    "    M = (X - np.mean(X,axis=1,keepdims=True))\n",
    "    # kiszámítjuk a kovariancia mátrix torzítatlan becslését\n",
    "    Cx = 1.0/(X.shape[1]-1) * np.dot(M,M.T)\n",
    "    # a kovariancia mátrix sajátértékeinek és sajátvektorainak a számítása    \n",
    "    var, P = np.linalg.eig(Cx) # a sajátértékek nem mindig nagyság szerint rendezettek!\n",
    "    Y = np.dot(P,M)   # az adatok vetítése az új térbe\n",
    "    return var, Y, P"
   ]
  },
  {
   "cell_type": "markdown",
   "metadata": {},
   "source": [
    "Kétváltozós minta adatrendszer. Az `X` mátrix sorai az egyes változók."
   ]
  },
  {
   "cell_type": "code",
   "execution_count": 2,
   "metadata": {},
   "outputs": [
    {
     "name": "stdout",
     "output_type": "stream",
     "text": [
      "[1.28402771 0.0490834 ]\n",
      "[[-1.07495104e-01 -1.55202114e-03  4.63456244e-01  1.52193204e-01\n",
      "  -7.31119496e-02  2.48633173e-01 -3.56701329e-01 -4.64172582e-02\n",
      "  -1.77646297e-02 -2.61240329e-01]\n",
      " [ 8.39431238e-01 -1.78331085e+00  9.57814340e-01  2.62749365e-01\n",
      "   1.68726247e+00  8.95757526e-01 -7.04568090e-02 -1.14457216e+00\n",
      "  -4.38046137e-01 -1.20662898e+00]]\n",
      "[[ 0.73517866 -0.6778734 ]\n",
      " [ 0.6778734   0.73517866]]\n"
     ]
    }
   ],
   "source": [
    "X = np.array([ [2.4,0.7,2.9,2.2,3.0,2.7,1.6,1.1,1.6,0.9],\n",
    "            [2.5,0.5,2.2,1.9,3.1,2.3,2,1,1.5,1.1] ])\n",
    "# PCA elemzés\n",
    "var, Y, P = PCA(X)\n",
    "print(var)\n",
    "print(Y)\n",
    "print(P)"
   ]
  },
  {
   "cell_type": "markdown",
   "metadata": {},
   "source": [
    "A két főkomponenst szaggatott vonallal ábrázoljuk, az eredeti adatokat kék pontokkal, az új adatokat piros csillaggal. Az első főkomponens az adatok legnagyobb változékonyságát mutatja és a második erre merőleges."
   ]
  },
  {
   "cell_type": "code",
   "execution_count": 3,
   "metadata": {},
   "outputs": [
    {
     "data": {
      "image/png": "[encoded data removed]",
      "text/plain": [
       "<Figure size 432x288 with 2 Axes>"
      ]
     },
     "metadata": {
      "needs_background": "light"
     },
     "output_type": "display_data"
    }
   ],
   "source": [
    "import matplotlib.pyplot as plt\n",
    "plt.figure()\n",
    "plt.subplot(121)\n",
    "# minden sajátvektor egy főkomponens irányát mutatja\n",
    "m = np.mean(X,axis=1)\n",
    "plt.plot([0, P[0,0]*2]+m[0], [0, P[1,0]*2]+m[1],'--k')\n",
    "plt.plot([0, P[0,1]*2]+m[0], [0, P[1,1]*2]+m[1],'--k')\n",
    "plt.plot(X[0,:],X[1,:],'ob') # a mérések\n",
    "plt.axis('equal')\n",
    "plt.subplot(122)\n",
    "# a transzformált adatok\n",
    "plt.plot(Y[1,:],Y[0,:],'*r')\n",
    "plt.axis('equal')\n",
    "plt.show()"
   ]
  },
  {
   "cell_type": "markdown",
   "metadata": {},
   "source": [
    "Most számítsuk ki a főkomponenseket SVD segítségével. Ehhez elvégezzük az `M` mátrix SVD felbontását:"
   ]
  },
  {
   "cell_type": "code",
   "execution_count": 4,
   "metadata": {},
   "outputs": [
    {
     "name": "stdout",
     "output_type": "stream",
     "text": [
      "[[ 0.49 -1.21  0.99  0.29  1.09  0.79 -0.31 -0.81 -0.31 -1.01]\n",
      " [ 0.69 -1.31  0.39  0.09  1.29  0.49  0.19 -0.81 -0.31 -0.71]]\n",
      "[1.28402771 0.0490834 ]\n",
      "[[-0.73517866 -0.6778734 ]\n",
      " [-0.6778734   0.73517866]]\n"
     ]
    }
   ],
   "source": [
    "M = (X - np.mean(X,axis=1,keepdims=True))\n",
    "print (M)\n",
    "U,S,V = np.linalg.svd(M)\n",
    "print (S**2/(M.shape[1]-1))\n",
    "print (U)"
   ]
  },
  {
   "cell_type": "markdown",
   "metadata": {},
   "source": [
    "Az `S` szinguláris értékek négyzete segítségével meghatározott varianciák ($1/(n-1)$-es szorzótól eltekintve) és az `U` mátrix oszlopaiban levő főkomponensek (az első komponens $-1$-es szorzójától eltekintve) megegyeznek a kovariancia mátrix sajátérték felbontásával kapott eredményekkel."
   ]
  },
  {
   "cell_type": "markdown",
   "metadata": {},
   "source": [
    "A következő példa egy négyváltozós adatrendszer PCA-ját mutatja be. Most az `X` mátrix oszlopai az egyes változók, ezért a mátrix transzponáltjára végezzük el a PCA-t."
   ]
  },
  {
   "cell_type": "code",
   "execution_count": 5,
   "metadata": {},
   "outputs": [
    {
     "data": {
      "image/png": "[encoded data removed]",
      "text/plain": [
       "<Figure size 432x288 with 1 Axes>"
      ]
     },
     "metadata": {
      "needs_background": "light"
     },
     "output_type": "display_data"
    },
    {
     "name": "stdout",
     "output_type": "stream",
     "text": [
      "az X mátrix a főkomponensek terében:\n",
      "[ 1.38594653e+01  2.14053472e+00 -2.35674713e-16  1.29088833e-16]\n",
      "X rangja: 3\n"
     ]
    }
   ],
   "source": [
    "X = np.array([[-1, 1, 2, 2],\n",
    "             [-2, 3, 1, 0],\n",
    "             [ 4, 0, 3,-1]],dtype=np.double)\n",
    "\n",
    "var, Y, P = PCA(X.T)\n",
    "perc = np.cumsum(var)/np.sum(var)\n",
    "plt.figure()\n",
    "# a következő ábra azt mutatja, hogy az első\n",
    "# két főkomponens gyakorlatilag már kiadja a teljes (1 = 100%) változékonyságot\n",
    "plt.stem(range(len(perc)),perc,'--b')\n",
    "plt.axis([-0.3,4.3,0,1.3])\n",
    "plt.show()\n",
    "print ('az X mátrix a főkomponensek terében:')\n",
    "print (var.T) # csak az első két oszlop nem zérus\n",
    "print ('X rangja: ', end='')\n",
    "print (np.linalg.matrix_rank(X))"
   ]
  }
 ],
 "metadata": {
  "kernelspec": {
   "display_name": "Python 3",
   "language": "python",
   "name": "python3"
  },
  "language_info": {
   "codemirror_mode": {
    "name": "ipython",
    "version": 3
   },
   "file_extension": ".py",
   "mimetype": "text/x-python",
   "name": "python",
   "nbconvert_exporter": "python",
   "pygments_lexer": "ipython3",
   "version": "3.9.16"
  }
 },
 "nbformat": 4,
 "nbformat_minor": 2
}
