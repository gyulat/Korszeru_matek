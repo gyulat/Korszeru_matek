{
 "cells": [
  {
   "cell_type": "markdown",
   "metadata": {},
   "source": [
    "## Principal component analysis (PCA)\n",
    "\n",
    "[Principal Component Analysis](https://en.wikipedia.org/wiki/Principal_component_analysis#Singular_value_decomposition) (PCA) is a close \"relative\" of SVD. \n",
    "\n",
    "What is the main objective of PCA? PCA reveals data structure by offering the best explanation of data variance. When a multidimensional dataset is visualized in a high dimensional data space by using coordinates, PCA offers a lower dimensional subspace view or \"shadow\" to the user, providing the most informative view by projecting the dataset onto this subspace. This is achieved by dimensionality reduction using the first few principal components.\n",
    "\n",
    "PCA is therefore very useful for data visualization or for different machine learning procedures (regression, clustering).\n",
    "\n",
    "Let  $\\mathbf{X}$ is a $p\\times n$ matrix, its rows are the \"features\", its columns are the \"measurements\".  \"Features\" are measured values or their combinations. \n",
    "\n",
    "If each row of $\\mathbf{X}$ has zero average then its empirical covariance matrix:\n",
    "\n",
    "$$\\mathbf{C}_{\\mathbf{X}} = \\frac{1}{n-1} \\mathbf{X}\\mathbf{X}^T$$\n",
    "\n",
    "Let us make SVD decomposition of the matrix $\\mathbf{C}_{\\mathbf{X}}$:\n",
    "\n",
    "$$\\mathbf{C}_{\\mathbf{X}} =  \\mathbf{P}\\mathbf{\\Lambda}\\mathbf{P}^T.$$\n",
    "\n",
    "Matrix $\\mathbf{Y}=\\mathbf{P}\\mathbf{X}$ gives representation of matrix $\\mathbf{X}$ in terms of principal components.\n",
    "\n",
    "SVD of $\\mathbf{X}$ can also provide the PCA. SVD decomposition of $\\mathbf{X}$ is:\n",
    "\n",
    "$$\\mathbf{X}=\\mathbf{U}\\mathbf{S}\\mathbf{V}^T.$$\n",
    "\n",
    "Columns of the $p\\times p$ matrix $\\mathbf{U}$ are the *principal components* of the covariance matrix $\\mathbf{C}_{\\mathbf{X}}$.\n",
    "\n",
    "PCA tries to find a new coordinate system in which the variance with respect to the first component is maximum. It turns out that this is the SVD (eigenvalue) decomposition of the covariance matrix $\\mathbf{C}$. As there belongs an eigenvalue to each eigenvector, hence if we select a subset of eigenvectors (typically these belong to the largest of eigenvalues), dimension of the feature vectors' space can be reduced by projecting onto this subspace. \n",
    "\n",
    "Let the $m\\times k$ matrix $\\mathbf{\\hat{U}}$ contain left eigenvectors of SVD where only columns of eigenvectors belonging to the $k$ largest eigenvalues were selected. Then approximation of matrix $\\mathbf{X}$ by a matrix  $\\mathbf{\\hat{X}}$ $n\\times k$ is:\n",
    "\n",
    "$$\\mathbf{\\hat{X}}=\\mathbf{\\hat{U}}\\mathbf{X}.$$\n"
   ]
  },
  {
   "cell_type": "markdown",
   "metadata": {},
   "source": [
    "As a first step we write the Python function `PCA(X)` to calculate principal component analysis of matrix `X`. This works by subtracting row-wise mean of `X` (because rows of `X` contain measurements of the values). Then the covariance matrix `Cx` is calculated. Finally we diagonalize by using the `eig()` function."
   ]
  },
  {
   "cell_type": "code",
   "execution_count": 1,
   "metadata": {},
   "outputs": [],
   "source": [
    "import numpy as np\n",
    "# PCA function\n",
    "def PCA(X):\n",
    "    \"\"\" performs principal component analysis (PCA)\n",
    "        of data matrix A of size (p,n)\n",
    "        rows of X are measurements of features, columns contain all features for a particular measurement\n",
    "\n",
    "    Results :  \n",
    "      var :\n",
    "        variances of principal components\n",
    "      Y   : \n",
    "        view of 'X' in the space of principal components, Y = P.X\n",
    "      P  : \n",
    "        vector of eigenvalues of the covariance matrix 'X'.\n",
    "    \"\"\"\n",
    "    # subtract row-wise mean\n",
    "    M = (X - np.mean(X,axis=1,keepdims=True))\n",
    "    # calculate undistorted estimation of the covariance matrix of X\n",
    "    Cx = 1.0/(X.shape[1]-1) * np.dot(M,M.T)\n",
    "    # eigenvalues and eigenvectors of Cx    \n",
    "    var, P = np.linalg.eig(Cx) # eigenvalues are not always sorted!\n",
    "    Y = np.dot(P,M)   # data projection onto subspace\n",
    "    return var, Y, P"
   ]
  },
  {
   "cell_type": "markdown",
   "metadata": {},
   "source": [
    "Sample dataset with 2 variables. Rows of matrix `X` are the features."
   ]
  },
  {
   "cell_type": "code",
   "execution_count": 2,
   "metadata": {},
   "outputs": [
    {
     "name": "stdout",
     "output_type": "stream",
     "text": [
      "[1.28402771 0.0490834 ]\n",
      "[[-1.07495104e-01 -1.55202114e-03  4.63456244e-01  1.52193204e-01\n",
      "  -7.31119496e-02  2.48633173e-01 -3.56701329e-01 -4.64172582e-02\n",
      "  -1.77646297e-02 -2.61240329e-01]\n",
      " [ 8.39431238e-01 -1.78331085e+00  9.57814340e-01  2.62749365e-01\n",
      "   1.68726247e+00  8.95757526e-01 -7.04568090e-02 -1.14457216e+00\n",
      "  -4.38046137e-01 -1.20662898e+00]]\n",
      "[[ 0.73517866 -0.6778734 ]\n",
      " [ 0.6778734   0.73517866]]\n"
     ]
    }
   ],
   "source": [
    "X = np.array([ [2.4,0.7,2.9,2.2,3.0,2.7,1.6,1.1,1.6,0.9],\n",
    "            [2.5,0.5,2.2,1.9,3.1,2.3,2,1,1.5,1.1] ])\n",
    "# PCA analysis\n",
    "var, Y, P = PCA(X)\n",
    "print(var)\n",
    "print(Y)\n",
    "print(P)"
   ]
  },
  {
   "cell_type": "markdown",
   "metadata": {},
   "source": [
    "The two proincipal components are shown by dashed lines, blue dots show the original data, red stars show new data. The first principal component shows the maximum variability in the data and the second is orthogonal to it. "
   ]
  },
  {
   "cell_type": "code",
   "execution_count": 4,
   "metadata": {},
   "outputs": [
    {
     "data": {
      "image/png": "[encoded data removed]",
      "text/plain": [
       "<Figure size 432x288 with 2 Axes>"
      ]
     },
     "metadata": {},
     "output_type": "display_data"
    }
   ],
   "source": [
    "import matplotlib.pyplot as plt\n",
    "plt.figure()\n",
    "plt.subplot(121)\n",
    "# each eigenvector shows a principal component\n",
    "m = np.mean(X,axis=1)\n",
    "plt.plot([0, P[0,0]*2]+m[0], [0, P[1,0]*2]+m[1],'--k')\n",
    "plt.plot([0, P[0,1]*2]+m[0], [0, P[1,1]*2]+m[1],'--k')\n",
    "plt.plot(X[0,:],X[1,:],'ob') # measurements\n",
    "plt.axis('equal')\n",
    "plt.subplot(122)\n",
    "# transformed data\n",
    "plt.plot(Y[1,:],Y[0,:],'*r')\n",
    "plt.axis('equal')\n",
    "plt.show()"
   ]
  },
  {
   "cell_type": "markdown",
   "metadata": {},
   "source": [
    "Let us calculate principal components by SVD. Calculate SVD decomposition of matrix `M`:"
   ]
  },
  {
   "cell_type": "code",
   "execution_count": 6,
   "metadata": {},
   "outputs": [
    {
     "name": "stdout",
     "output_type": "stream",
     "text": [
      "[[ 0.49 -1.21  0.99  0.29  1.09  0.79 -0.31 -0.81 -0.31 -1.01]\n",
      " [ 0.69 -1.31  0.39  0.09  1.29  0.49  0.19 -0.81 -0.31 -0.71]]\n",
      "[1.28402771 0.0490834 ]\n",
      "[[-0.73517866 -0.6778734 ]\n",
      " [-0.6778734   0.73517866]]\n"
     ]
    }
   ],
   "source": [
    "M = (X - np.mean(X,axis=1,keepdims=True))\n",
    "print(M)\n",
    "U,S,V = np.linalg.svd(M)\n",
    "print(S**2/(M.shape[1]-1))\n",
    "print(U)"
   ]
  },
  {
   "cell_type": "markdown",
   "metadata": {},
   "source": [
    "Variances calculated by squares of singular values `S` (disregarding a factor of $1/(n-1)$) and principal components in the columns of matrix `U` (disregarding a factor of $-1$ for the first component) are identical with those obtained by eigendecomposition of the covariance matrix."
   ]
  },
  {
   "cell_type": "markdown",
   "metadata": {},
   "source": [
    "The following example shows PCA of a dataset with four features. Now columns of matrix `X` are the features, therefore PCA is performed on its transpose."
   ]
  },
  {
   "cell_type": "code",
   "execution_count": 8,
   "metadata": {},
   "outputs": [
    {
     "data": {
      "image/png": "[encoded data removed]",
      "text/plain": [
       "<Figure size 432x288 with 1 Axes>"
      ]
     },
     "metadata": {},
     "output_type": "display_data"
    },
    {
     "name": "stdout",
     "output_type": "stream",
     "text": [
      "matrix X in terms of its principal components:\n",
      "[ 1.38594653e+01  2.14053472e+00 -1.82700458e-15  1.82836690e-16]\n",
      "rank of X: 3\n"
     ]
    }
   ],
   "source": [
    "X = np.array([[-1, 1, 2, 2],\n",
    "             [-2, 3, 1, 0],\n",
    "             [ 4, 0, 3,-1]],dtype=np.double)\n",
    "\n",
    "var, Y, P = PCA(X.T)\n",
    "perc = np.cumsum(var)/np.sum(var)\n",
    "plt.figure()\n",
    "# the following figure shows that practically the first two components\n",
    "# give the total (1 = 100%) variability\n",
    "plt.stem(range(len(perc)),perc,'--b')\n",
    "plt.axis([-0.3,4.3,0,1.3])\n",
    "plt.show()\n",
    "print('matrix X in terms of its principal components:')\n",
    "print(var.T) # only the first two columns are nonzero\n",
    "print('rank of X: ', end='')\n",
    "print(np.linalg.matrix_rank(X))"
   ]
  }
 ],
 "metadata": {
  "kernelspec": {
   "display_name": "Python 3",
   "language": "python",
   "name": "python3"
  },
  "language_info": {
   "codemirror_mode": {
    "name": "ipython",
    "version": 3
   },
   "file_extension": ".py",
   "mimetype": "text/x-python",
   "name": "python",
   "nbconvert_exporter": "python",
   "pygments_lexer": "ipython3",
   "version": "3.6.7"
  }
 },
 "nbformat": 4,
 "nbformat_minor": 2
}
