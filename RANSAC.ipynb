{
 "cells": [
  {
   "cell_type": "markdown",
   "metadata": {
    "deletable": true,
    "editable": true
   },
   "source": [
    "# RANSAC\n",
    "\n",
    "Jól ismert tény, hogy a hagyományos legkisebb négyzetek módszere alapján történő modell paraméter becslés nem rezisztens, vagyis igen érzékeny az adatokban esetlegesen előforduló durva hibákra. Akár már egyetlen durva hibás adat is képes összeomlasztani a becslést, ami azt jelenti, hogy a meghatározott paraméterek torzítása akár tetszőlegesen nagy lehet.\n",
    "\n",
    "Ezen a problémán segít a **RANSAC (RANdom Sample And Consensus)** eljárás, amelyet Fischler és Bolles vezetett be 1981-ben. Ők egy olyan probléma megoldására alkalmazták, amikor a kiinduló adathalmaz nagy számú durva hibás értéket tartalmazott. A RANSAC által tolerálható durva hibás adatok aránya akár 50% is lehet.\n",
    "\n",
    "A RANSAC tehát rezisztens iterációs paraméterbecslési eljárás, mely az adatok valamely modellre illeszkedő részhalmazából végzi a becslést. Mindegyik iterációs lépés az alábbiakat tartalmazza:\n",
    "\n",
    "1. Az összes adatból válasszunk ki véletlen módon minimális számút és ellenőrizzük, hogy a kiválasztott adathalmaz érvényes-e?\n",
    "2. Végezzük el a modell becslését és ellenőrizzük, hogy a modell érvényes-e?\n",
    "3. Osztályozzuk az adatokat illeszkedő és kivágó adatokra a modelltől vett eltéréseik alapján - a megadott küszöbértéknél kisebb eltérésű pontokat tekintjük illeszkedő adatoknak.\n",
    "4. Jegyezzük meg a modellt, ha az illeszkedő adatok száma a pillanatnyi maximum. Ha az adatok száma ugyanannyi, akkor az eltérések összege a döntő.\n",
    "\n",
    "Ezeket a lépéseket egy megadott maximális számig végezzük el, illetve míg valamelyik speciális leállási feltétel nem teljesül. A legjobb modell becslését a korábbiakban meghatározott legjobb modell alapján végezzük el."
   ]
  },
  {
   "cell_type": "markdown",
   "metadata": {
    "deletable": true,
    "editable": true
   },
   "source": [
    "## Ellipszis illesztés RANSAC eljárással\n",
    "\n",
    "A módszert egy egyszerű példán fogjuk bemutatni.\n",
    "\n",
    "Állítsunk elő egy ellipszisre közelítőleg illeszkedő, konform adatokat:"
   ]
  },
  {
   "cell_type": "code",
   "execution_count": 1,
   "metadata": {
    "collapsed": false,
    "deletable": true,
    "editable": true
   },
   "outputs": [],
   "source": [
    "import numpy as np\n",
    "t = np.linspace(0, 2 * np.pi, 50)\n",
    "a = 10\n",
    "b = 5\n",
    "xc = 20\n",
    "yc = 30\n",
    "theta = np.pi/6\n",
    "x = xc + a*np.cos(theta)*np.cos(t) - b*np.sin(theta)*np.sin(t)\n",
    "y = yc + a*np.sin(theta)*np.cos(t) + b*np.cos(theta)*np.sin(t)\n",
    "data = np.column_stack([x, y])\n",
    "# reprodukálható eredmények miatt:\n",
    "np.random.seed(seed=1234)\n",
    "data += np.random.normal(size=data.shape)"
   ]
  },
  {
   "cell_type": "markdown",
   "metadata": {
    "deletable": true,
    "editable": true
   },
   "source": [
    "Legyenek hibás (kivágó) adataink is:"
   ]
  },
  {
   "cell_type": "code",
   "execution_count": 2,
   "metadata": {
    "collapsed": false,
    "deletable": true,
    "editable": true
   },
   "outputs": [
    {
     "data": {
      "image/png": "[encoded data removed]",
      "text/plain": [
       "<matplotlib.figure.Figure at 0x7f1d1caf8ad0>"
      ]
     },
     "metadata": {},
     "output_type": "display_data"
    }
   ],
   "source": [
    "data[0] = (100, 100)\n",
    "data[1] = (110, 120)\n",
    "data[2] = (120, 130)\n",
    "data[3] = (140, 130)\n",
    "\n",
    "%matplotlib inline\n",
    "import matplotlib.pyplot as plt\n",
    "plt.plot(data[:,0],data[:,1],'r.')\n",
    "plt.show()"
   ]
  },
  {
   "cell_type": "markdown",
   "metadata": {
    "deletable": true,
    "editable": true
   },
   "source": [
    "### Végezzünk becslést teljes legkisebb négyzetek módszerével\n",
    "\n",
    "A becsléshez a [Scikit-image](http://scikit-image.org)  képfeldolgozó programkönyvtárat használjuk. Azért ezt, mert ebben megtalálható a legkisebb négyzetek szerinti becslés mellett a RANSAC eljárás megvalósítása is, így azt nem nekünk kell megírnunk. "
   ]
  },
  {
   "cell_type": "code",
   "execution_count": 3,
   "metadata": {
    "collapsed": false,
    "deletable": true,
    "editable": true
   },
   "outputs": [
    {
     "data": {
      "text/plain": [
       "array([ 153.07820102,  151.12731802,  192.07191972,    5.99740512,\n",
       "          0.73236567])"
      ]
     },
     "execution_count": 3,
     "metadata": {},
     "output_type": "execute_result"
    }
   ],
   "source": [
    "import skimage.measure as sm\n",
    "model = sm.EllipseModel()\n",
    "model.estimate(data)\n",
    "# a meghatározott modell ellipszis paraméterek\n",
    "# xc, yc, a, b, theta\n",
    "np.set_printoptions(suppress=True)\n",
    "model._params"
   ]
  },
  {
   "cell_type": "markdown",
   "metadata": {
    "deletable": true,
    "editable": true
   },
   "source": [
    "Ezek a paraméterek láthatóan teljesen rosszak. Az eredeti ellipszis fél tengelyhosszai 10 és 5 voltak, a középpont pedig az $O(20,30)$ koordinátájú pont."
   ]
  },
  {
   "cell_type": "markdown",
   "metadata": {
    "deletable": true,
    "editable": true
   },
   "source": [
    "### Végezzünk becslést RANSAC eljárással"
   ]
  },
  {
   "cell_type": "code",
   "execution_count": 5,
   "metadata": {
    "collapsed": false,
    "deletable": true,
    "editable": true
   },
   "outputs": [
    {
     "name": "stdout",
     "output_type": "stream",
     "text": [
      "[ 19.93423634  29.61139154   9.78907655   4.98747605   0.45201316]\n",
      "[ 0.06576366  0.38860846  0.21092345  0.01252395  0.07158562]\n"
     ]
    }
   ],
   "source": [
    "# minimum 5 pont kell az általános ellipszis illesztéshez\n",
    "n_min = 5\n",
    "# illeszkedő pont maximális távolsága\n",
    "t_max = 3.0\n",
    "ransac_model, inliers = sm.ransac(data, sm.EllipseModel, n_min, t_max, max_trials=50)\n",
    "print ransac_model._params\n",
    "original_params = np.array([xc,yc,a,b,theta])\n",
    "print original_params - ransac_model._params"
   ]
  },
  {
   "cell_type": "markdown",
   "metadata": {
    "deletable": true,
    "editable": true
   },
   "source": [
    "A megtalált konform adatok pedig az 'inliers' tömb logikai 'igaz' értékű elemei:"
   ]
  },
  {
   "cell_type": "code",
   "execution_count": 6,
   "metadata": {
    "collapsed": false,
    "deletable": true,
    "editable": true
   },
   "outputs": [
    {
     "data": {
      "text/plain": [
       "array([False, False, False, False,  True,  True,  True,  True,  True,\n",
       "        True,  True,  True,  True,  True,  True,  True,  True,  True,\n",
       "        True,  True,  True,  True,  True,  True,  True,  True,  True,\n",
       "        True,  True,  True,  True,  True, False,  True,  True,  True,\n",
       "        True,  True,  True,  True,  True,  True,  True,  True,  True,\n",
       "        True,  True,  True,  True,  True], dtype=bool)"
      ]
     },
     "execution_count": 6,
     "metadata": {},
     "output_type": "execute_result"
    }
   ],
   "source": [
    "inliers"
   ]
  },
  {
   "cell_type": "markdown",
   "metadata": {
    "deletable": true,
    "editable": true
   },
   "source": [
    "Jól látszik, hogy az első négy adat a kivágó, amit elrontottunk."
   ]
  },
  {
   "cell_type": "markdown",
   "metadata": {
    "deletable": true,
    "editable": true
   },
   "source": [
    "### Rajzoljuk fel a konform adatokra illeszkedő ellipszist"
   ]
  },
  {
   "cell_type": "code",
   "execution_count": 7,
   "metadata": {
    "collapsed": false,
    "deletable": true,
    "editable": true
   },
   "outputs": [
    {
     "data": {
      "image/png": "[encoded data removed]",
      "text/plain": [
       "<matplotlib.figure.Figure at 0x7f1d2dea3690>"
      ]
     },
     "metadata": {},
     "output_type": "display_data"
    }
   ],
   "source": [
    "t = np.linspace(0, 2 * np.pi, 100)\n",
    "p = ransac_model._params\n",
    "xe = p[0] + p[2]*np.cos(p[4])*np.cos(t) - p[3]*np.sin(p[4])*np.sin(t)\n",
    "ye = p[1] + p[2]*np.sin(p[4])*np.cos(t) + p[3]*np.cos(p[4])*np.sin(t)\n",
    "plt.clf()\n",
    "plt.plot(data[inliers,0],data[inliers,1],'r.')\n",
    "plt.plot(xe,ye,'b-')\n",
    "plt.plot(p[0],p[1],'bo')\n",
    "plt.axis('equal')\n",
    "plt.show()"
   ]
  },
  {
   "cell_type": "markdown",
   "metadata": {
    "deletable": true,
    "editable": true
   },
   "source": [
    "A továbbiakban először lézer szkenneres adatok alapján meghatározzuk egy referencia gömb helyzetét és sugarát ([SphRANSAC](https://nbviewer.jupyter.org/github/gyulat/Korszeru_matek/blob/master/SphRANSAC.ipynb)). Ezután egy bonyolultabb geometriai feladatot oldunk meg: adott, durva hibás adatokat tartalmazó ponthalmaz alapján meghatározzuk egy legjobban illeszkedő egyenes körhenger paramétereit ([CylRANSAC](https://nbviewer.jupyter.org/github/gyulat/Korszeru_matek/blob/master/CylRANSAC.ipynb))."
   ]
  }
 ],
 "metadata": {
  "kernelspec": {
   "display_name": "Python 2",
   "language": "python",
   "name": "python2"
  },
  "language_info": {
   "codemirror_mode": {
    "name": "ipython",
    "version": 2
   },
   "file_extension": ".py",
   "mimetype": "text/x-python",
   "name": "python",
   "nbconvert_exporter": "python",
   "pygments_lexer": "ipython2",
   "version": "2.7.13"
  }
 },
 "nbformat": 4,
 "nbformat_minor": 0
}
